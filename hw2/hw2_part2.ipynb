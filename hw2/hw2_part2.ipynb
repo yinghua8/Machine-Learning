{
 "cells": [
  {
   "cell_type": "code",
   "execution_count": 1,
   "id": "af827e66",
   "metadata": {},
   "outputs": [],
   "source": [
    "import numpy as np\n",
    "import pandas as pd\n",
    "import matplotlib.pyplot as plt\n",
    "import math\n",
    "import matplotlib as mpl\n",
    "import random"
   ]
  },
  {
   "cell_type": "code",
   "execution_count": 2,
   "id": "31f78f50",
   "metadata": {},
   "outputs": [
    {
     "data": {
      "text/html": [
       "<div>\n",
       "<style scoped>\n",
       "    .dataframe tbody tr th:only-of-type {\n",
       "        vertical-align: middle;\n",
       "    }\n",
       "\n",
       "    .dataframe tbody tr th {\n",
       "        vertical-align: top;\n",
       "    }\n",
       "\n",
       "    .dataframe thead th {\n",
       "        text-align: right;\n",
       "    }\n",
       "</style>\n",
       "<table border=\"1\" class=\"dataframe\">\n",
       "  <thead>\n",
       "    <tr style=\"text-align: right;\">\n",
       "      <th></th>\n",
       "      <th>Unnamed: 0</th>\n",
       "      <th>x1</th>\n",
       "      <th>x2</th>\n",
       "      <th>class</th>\n",
       "    </tr>\n",
       "  </thead>\n",
       "  <tbody>\n",
       "    <tr>\n",
       "      <th>0</th>\n",
       "      <td>0</td>\n",
       "      <td>18.73341</td>\n",
       "      <td>64.74255</td>\n",
       "      <td>1</td>\n",
       "    </tr>\n",
       "    <tr>\n",
       "      <th>1</th>\n",
       "      <td>1</td>\n",
       "      <td>3.99410</td>\n",
       "      <td>90.31358</td>\n",
       "      <td>1</td>\n",
       "    </tr>\n",
       "    <tr>\n",
       "      <th>2</th>\n",
       "      <td>2</td>\n",
       "      <td>23.39904</td>\n",
       "      <td>87.20672</td>\n",
       "      <td>1</td>\n",
       "    </tr>\n",
       "    <tr>\n",
       "      <th>3</th>\n",
       "      <td>3</td>\n",
       "      <td>24.83011</td>\n",
       "      <td>65.38512</td>\n",
       "      <td>1</td>\n",
       "    </tr>\n",
       "    <tr>\n",
       "      <th>4</th>\n",
       "      <td>4</td>\n",
       "      <td>13.73641</td>\n",
       "      <td>53.82633</td>\n",
       "      <td>1</td>\n",
       "    </tr>\n",
       "    <tr>\n",
       "      <th>...</th>\n",
       "      <td>...</td>\n",
       "      <td>...</td>\n",
       "      <td>...</td>\n",
       "      <td>...</td>\n",
       "    </tr>\n",
       "    <tr>\n",
       "      <th>995</th>\n",
       "      <td>995</td>\n",
       "      <td>54.10317</td>\n",
       "      <td>17.12986</td>\n",
       "      <td>4</td>\n",
       "    </tr>\n",
       "    <tr>\n",
       "      <th>996</th>\n",
       "      <td>996</td>\n",
       "      <td>93.22444</td>\n",
       "      <td>11.30329</td>\n",
       "      <td>4</td>\n",
       "    </tr>\n",
       "    <tr>\n",
       "      <th>997</th>\n",
       "      <td>997</td>\n",
       "      <td>86.16369</td>\n",
       "      <td>28.73599</td>\n",
       "      <td>4</td>\n",
       "    </tr>\n",
       "    <tr>\n",
       "      <th>998</th>\n",
       "      <td>998</td>\n",
       "      <td>79.43405</td>\n",
       "      <td>22.69025</td>\n",
       "      <td>4</td>\n",
       "    </tr>\n",
       "    <tr>\n",
       "      <th>999</th>\n",
       "      <td>999</td>\n",
       "      <td>56.86633</td>\n",
       "      <td>17.46885</td>\n",
       "      <td>4</td>\n",
       "    </tr>\n",
       "  </tbody>\n",
       "</table>\n",
       "<p>1000 rows × 4 columns</p>\n",
       "</div>"
      ],
      "text/plain": [
       "     Unnamed: 0        x1        x2  class\n",
       "0             0  18.73341  64.74255      1\n",
       "1             1   3.99410  90.31358      1\n",
       "2             2  23.39904  87.20672      1\n",
       "3             3  24.83011  65.38512      1\n",
       "4             4  13.73641  53.82633      1\n",
       "..          ...       ...       ...    ...\n",
       "995         995  54.10317  17.12986      4\n",
       "996         996  93.22444  11.30329      4\n",
       "997         997  86.16369  28.73599      4\n",
       "998         998  79.43405  22.69025      4\n",
       "999         999  56.86633  17.46885      4\n",
       "\n",
       "[1000 rows x 4 columns]"
      ]
     },
     "execution_count": 2,
     "metadata": {},
     "output_type": "execute_result"
    }
   ],
   "source": [
    "data = pd.read_excel(\"D:\\大四下\\ML\\HW2\\HW2.xlsx\")\n",
    "data"
   ]
  },
  {
   "cell_type": "code",
   "execution_count": 3,
   "id": "53a02cba",
   "metadata": {},
   "outputs": [
    {
     "data": {
      "text/plain": [
       "0        0\n",
       "1        1\n",
       "2        2\n",
       "3        3\n",
       "4        4\n",
       "      ... \n",
       "995    995\n",
       "996    996\n",
       "997    997\n",
       "998    998\n",
       "999    999\n",
       "Name: Unnamed: 0, Length: 1000, dtype: int64"
      ]
     },
     "execution_count": 3,
     "metadata": {},
     "output_type": "execute_result"
    }
   ],
   "source": [
    "data.pop('Unnamed: 0')"
   ]
  },
  {
   "cell_type": "code",
   "execution_count": 4,
   "id": "2e627594",
   "metadata": {},
   "outputs": [],
   "source": [
    "data = data.to_numpy()"
   ]
  },
  {
   "cell_type": "code",
   "execution_count": 5,
   "id": "0445daff",
   "metadata": {},
   "outputs": [],
   "source": [
    "x1 = data[:, 0]\n",
    "x2 = data[:, 1]\n",
    "Class = data[:, 2]"
   ]
  },
  {
   "cell_type": "markdown",
   "id": "a7730038",
   "metadata": {},
   "source": [
    "### Part2. Generative Model - multi-Gaussian"
   ]
  },
  {
   "cell_type": "code",
   "execution_count": 6,
   "id": "26b6c547",
   "metadata": {},
   "outputs": [
    {
     "name": "stdout",
     "output_type": "stream",
     "text": [
      "0.4 0.25 0.2 0.15\n"
     ]
    }
   ],
   "source": [
    "pi_1 = np.count_nonzero(Class == 1) / len(Class)\n",
    "pi_2 = np.count_nonzero(Class == 2) / len(Class)\n",
    "pi_3 = np.count_nonzero(Class == 3) / len(Class)\n",
    "pi_4 = np.count_nonzero(Class == 4) / len(Class)\n",
    "print(pi_1, pi_2, pi_3, pi_4)"
   ]
  },
  {
   "cell_type": "markdown",
   "id": "c1d95f81",
   "metadata": {},
   "source": [
    "**clarify data in different class**"
   ]
  },
  {
   "cell_type": "code",
   "execution_count": 7,
   "id": "c02f23b9",
   "metadata": {},
   "outputs": [],
   "source": [
    "Class1 = []\n",
    "Class2 = []\n",
    "Class3 = []\n",
    "Class4 = []\n",
    "#Classify the data into tuple according to its class\n",
    "for i in range(len(x1)):\n",
    "    if Class[i] == 1:\n",
    "        Class1.append((x1[i], x2[i]))\n",
    "    elif Class[i] == 2:\n",
    "        Class2.append((x1[i], x2[i]))\n",
    "    elif Class[i] == 3:\n",
    "        Class3.append((x1[i], x2[i]))\n",
    "    elif Class[i] == 4:\n",
    "        Class4.append((x1[i], x2[i]))"
   ]
  },
  {
   "cell_type": "markdown",
   "id": "4b54d2e1",
   "metadata": {},
   "source": [
    "**Define Gaussian distribution of p(x|C)**"
   ]
  },
  {
   "cell_type": "code",
   "execution_count": 8,
   "id": "ce2fd47a",
   "metadata": {},
   "outputs": [],
   "source": [
    "def Gau(x, mu, cov):\n",
    "    \"\"\"\n",
    "    x: (x1, x2) tuple\n",
    "    mu: (u1, u2) tuple\n",
    "    \"\"\"\n",
    "    prob = (1 / 2 * math.pi) * (1 / np.linalg.det(cov) ** (1 / 2)) * math.exp(-1/2 * np.dot(np.dot((x - mu).T, np.linalg.inv(cov)), (x - mu)))\n",
    "    return prob"
   ]
  },
  {
   "cell_type": "markdown",
   "id": "9257ea25",
   "metadata": {},
   "source": [
    "**Best Mean & Covariance Matrix(Closed form)**"
   ]
  },
  {
   "cell_type": "code",
   "execution_count": 9,
   "id": "42160c1e",
   "metadata": {},
   "outputs": [],
   "source": [
    "def best_mean(x):\n",
    "    \"\"\"\n",
    "    x: list -> N\n",
    "    element in x: tuple -> 1 * 2\n",
    "    return best mean: u1, u2 -> 2 * 1\n",
    "    \"\"\"\n",
    "    temp0 = 0\n",
    "    temp1 = 0\n",
    "    for i in x:\n",
    "        temp0 += i[0]\n",
    "        temp1 += i[1]\n",
    "    length = len(x)\n",
    "    return np.array((temp0 / length, temp1 / length))[np.newaxis].T"
   ]
  },
  {
   "cell_type": "code",
   "execution_count": 10,
   "id": "a36c1be9",
   "metadata": {},
   "outputs": [],
   "source": [
    "def cov(x, u):\n",
    "    \"\"\"\n",
    "    x: list\n",
    "    u: tuple of (u1, u2)\n",
    "    \"\"\"\n",
    "    ans = np.zeros((2, 2))\n",
    "    for i in x:\n",
    "        temp = np.array(i)[np.newaxis].T - u\n",
    "        ans += np.dot(temp, temp.T)\n",
    "    ans /= len(x)\n",
    "    return ans"
   ]
  },
  {
   "cell_type": "code",
   "execution_count": 11,
   "id": "90a96108",
   "metadata": {},
   "outputs": [],
   "source": [
    "mu1 = best_mean(Class1)\n",
    "mu2 = best_mean(Class2)\n",
    "mu3 = best_mean(Class3)\n",
    "mu4 = best_mean(Class4)"
   ]
  },
  {
   "cell_type": "code",
   "execution_count": 12,
   "id": "ec75ff5e",
   "metadata": {},
   "outputs": [],
   "source": [
    "def best_cov(x1, x2, x3, x4):\n",
    "    \"\"\"\n",
    "    x1, x2, x3, x4: list\n",
    "    \"\"\"\n",
    "    temp = 0\n",
    "    mu = 0\n",
    "    \n",
    "    mu = best_mean(Class1)\n",
    "    temp1 = cov(Class1, mu)\n",
    "    mu = best_mean(Class2)\n",
    "    temp2 = cov(Class2, mu)\n",
    "    mu = best_mean(Class3)\n",
    "    temp3 = cov(Class3, mu)\n",
    "    mu = best_mean(Class4)\n",
    "    temp4 = cov(Class4, mu)\n",
    "    \n",
    "    return (len(x1) * temp1 + len(x2) * temp2 + len(x3) * temp3 + len(x4) * temp4) / (len(x1) + len(x2) + len(x3) + len(x4))"
   ]
  },
  {
   "cell_type": "code",
   "execution_count": 13,
   "id": "06672dda",
   "metadata": {},
   "outputs": [
    {
     "data": {
      "text/plain": [
       "array([[186.38980095,   7.86502509],\n",
       "       [  7.86502509, 182.43369113]])"
      ]
     },
     "execution_count": 13,
     "metadata": {},
     "output_type": "execute_result"
    }
   ],
   "source": [
    "final_cov = best_cov(Class1, Class2, Class3, Class4)\n",
    "final_cov"
   ]
  },
  {
   "cell_type": "markdown",
   "id": "a98b2111",
   "metadata": {},
   "source": [
    "**obtain p(x|C) and determine which calss does x belongs to**"
   ]
  },
  {
   "cell_type": "code",
   "execution_count": 14,
   "id": "42a7a4c6",
   "metadata": {},
   "outputs": [],
   "source": [
    "def best_prob(x, m1, m2, m3, m4, cov):\n",
    "    \"\"\"\n",
    "    x: list -> 2 * 1(單筆x data)\n",
    "    return: int\n",
    "    \"\"\"\n",
    "    p_1 = 0\n",
    "    p_2 = 0\n",
    "    p_3 = 0\n",
    "    temp = []\n",
    "    p_1 = pi_1 * Gau(x, m1, cov) + pi_4 * Gau(x, m4, cov)\n",
    "    p_2 = pi_2 * Gau(x, m2, cov)\n",
    "    p_3 = pi_3 * Gau(x, m3, cov)\n",
    "    total = p_1 + p_2 + p_3 \n",
    "    temp.append(p_1 / total)\n",
    "    temp.append(p_2 / total)\n",
    "    temp.append(p_3 / total)\n",
    "    return temp.index(max(temp))"
   ]
  },
  {
   "cell_type": "code",
   "execution_count": 15,
   "id": "ecefa777",
   "metadata": {},
   "outputs": [],
   "source": [
    "result = np.zeros((1000, 1000))\n",
    "for x in np.linspace(0.0, 100.0, num=1000):\n",
    "    for y in np.linspace(0.0, 100.0, num=1000):\n",
    "        result[int(x * 10 - 0.001), int(y * 10 - 0.001)] = best_prob(np.array((x, y))[np.newaxis].T, mu1, mu2, mu3, mu4, final_cov)"
   ]
  },
  {
   "cell_type": "code",
   "execution_count": 16,
   "id": "b57d04d4",
   "metadata": {},
   "outputs": [],
   "source": [
    "#blue -> 1\n",
    "#green -> 2\n",
    "#red -> 3\n",
    "#black -> 4\n",
    "cmap = mpl.colors.ListedColormap(['b', 'g', 'r'])"
   ]
  },
  {
   "cell_type": "code",
   "execution_count": 17,
   "id": "8b7103ec",
   "metadata": {},
   "outputs": [
    {
     "data": {
      "text/plain": [
       "<matplotlib.image.AxesImage at 0x2a88780aac0>"
      ]
     },
     "execution_count": 17,
     "metadata": {},
     "output_type": "execute_result"
    },
    {
     "data": {
      "image/png": "[encoded data removed]",
      "text/plain": [
       "<Figure size 300x1000 with 1 Axes>"
      ]
     },
     "metadata": {},
     "output_type": "display_data"
    }
   ],
   "source": [
    "fig , ax = plt.subplots(figsize=(3, 10))\n",
    "plt.imshow(result, cmap = cmap, interpolation = 'none', origin = \"lower\", extent = [0, 100, 0, 100], aspect = 1 / 1.4)"
   ]
  },
  {
   "cell_type": "code",
   "execution_count": 18,
   "id": "7f032858",
   "metadata": {},
   "outputs": [
    {
     "data": {
      "text/html": [
       "<div>\n",
       "<style scoped>\n",
       "    .dataframe tbody tr th:only-of-type {\n",
       "        vertical-align: middle;\n",
       "    }\n",
       "\n",
       "    .dataframe tbody tr th {\n",
       "        vertical-align: top;\n",
       "    }\n",
       "\n",
       "    .dataframe thead th {\n",
       "        text-align: right;\n",
       "    }\n",
       "</style>\n",
       "<table border=\"1\" class=\"dataframe\">\n",
       "  <thead>\n",
       "    <tr style=\"text-align: right;\">\n",
       "      <th></th>\n",
       "      <th>Unnamed: 0</th>\n",
       "      <th>x1</th>\n",
       "      <th>x2</th>\n",
       "    </tr>\n",
       "  </thead>\n",
       "  <tbody>\n",
       "    <tr>\n",
       "      <th>0</th>\n",
       "      <td>0</td>\n",
       "      <td>25.33270</td>\n",
       "      <td>60.77430</td>\n",
       "    </tr>\n",
       "    <tr>\n",
       "      <th>1</th>\n",
       "      <td>1</td>\n",
       "      <td>68.65419</td>\n",
       "      <td>92.65231</td>\n",
       "    </tr>\n",
       "    <tr>\n",
       "      <th>2</th>\n",
       "      <td>2</td>\n",
       "      <td>76.50180</td>\n",
       "      <td>10.90763</td>\n",
       "    </tr>\n",
       "    <tr>\n",
       "      <th>3</th>\n",
       "      <td>3</td>\n",
       "      <td>55.31886</td>\n",
       "      <td>52.93528</td>\n",
       "    </tr>\n",
       "    <tr>\n",
       "      <th>4</th>\n",
       "      <td>4</td>\n",
       "      <td>6.81996</td>\n",
       "      <td>78.10947</td>\n",
       "    </tr>\n",
       "    <tr>\n",
       "      <th>...</th>\n",
       "      <td>...</td>\n",
       "      <td>...</td>\n",
       "      <td>...</td>\n",
       "    </tr>\n",
       "    <tr>\n",
       "      <th>9995</th>\n",
       "      <td>9995</td>\n",
       "      <td>70.07158</td>\n",
       "      <td>73.27779</td>\n",
       "    </tr>\n",
       "    <tr>\n",
       "      <th>9996</th>\n",
       "      <td>9996</td>\n",
       "      <td>24.82610</td>\n",
       "      <td>35.17770</td>\n",
       "    </tr>\n",
       "    <tr>\n",
       "      <th>9997</th>\n",
       "      <td>9997</td>\n",
       "      <td>46.99942</td>\n",
       "      <td>18.74366</td>\n",
       "    </tr>\n",
       "    <tr>\n",
       "      <th>9998</th>\n",
       "      <td>9998</td>\n",
       "      <td>10.22575</td>\n",
       "      <td>93.15863</td>\n",
       "    </tr>\n",
       "    <tr>\n",
       "      <th>9999</th>\n",
       "      <td>9999</td>\n",
       "      <td>14.18564</td>\n",
       "      <td>76.84959</td>\n",
       "    </tr>\n",
       "  </tbody>\n",
       "</table>\n",
       "<p>10000 rows × 3 columns</p>\n",
       "</div>"
      ],
      "text/plain": [
       "      Unnamed: 0        x1        x2\n",
       "0              0  25.33270  60.77430\n",
       "1              1  68.65419  92.65231\n",
       "2              2  76.50180  10.90763\n",
       "3              3  55.31886  52.93528\n",
       "4              4   6.81996  78.10947\n",
       "...          ...       ...       ...\n",
       "9995        9995  70.07158  73.27779\n",
       "9996        9996  24.82610  35.17770\n",
       "9997        9997  46.99942  18.74366\n",
       "9998        9998  10.22575  93.15863\n",
       "9999        9999  14.18564  76.84959\n",
       "\n",
       "[10000 rows x 3 columns]"
      ]
     },
     "execution_count": 18,
     "metadata": {},
     "output_type": "execute_result"
    }
   ],
   "source": [
    "test_data = pd.read_excel(\"D:\\\\大四下\\\\ML\\\\hw2_demo\\\\testingData.xlsx\")\n",
    "test_data"
   ]
  },
  {
   "cell_type": "code",
   "execution_count": 19,
   "id": "3d4b4089",
   "metadata": {},
   "outputs": [
    {
     "data": {
      "text/plain": [
       "0          0\n",
       "1          1\n",
       "2          2\n",
       "3          3\n",
       "4          4\n",
       "        ... \n",
       "9995    9995\n",
       "9996    9996\n",
       "9997    9997\n",
       "9998    9998\n",
       "9999    9999\n",
       "Name: Unnamed: 0, Length: 10000, dtype: int64"
      ]
     },
     "execution_count": 19,
     "metadata": {},
     "output_type": "execute_result"
    }
   ],
   "source": [
    "test_data.pop('Unnamed: 0')"
   ]
  },
  {
   "cell_type": "code",
   "execution_count": 20,
   "id": "5e0afa7f",
   "metadata": {},
   "outputs": [],
   "source": [
    "test_data = test_data.to_numpy()"
   ]
  },
  {
   "cell_type": "code",
   "execution_count": 25,
   "id": "0e95c34b",
   "metadata": {},
   "outputs": [],
   "source": [
    "gen_2 = []\n",
    "for i in range(len(test_data)):\n",
    "    gen_2.append(best_prob(np.array((test_data[i][0], test_data[i][1]))[np.newaxis].T, mu1, mu2, mu3, mu4, final_cov) + 1)"
   ]
  },
  {
   "cell_type": "code",
   "execution_count": 26,
   "id": "f71a9b7c",
   "metadata": {},
   "outputs": [],
   "source": [
    "gen_2 = pd.DataFrame(gen_2)"
   ]
  },
  {
   "cell_type": "code",
   "execution_count": 27,
   "id": "a32830ad",
   "metadata": {},
   "outputs": [],
   "source": [
    "gen_2.to_csv('D:\\\\大四下\\\\ML\\\\hw2_demo\\\\C.csv')"
   ]
  },
  {
   "cell_type": "code",
   "execution_count": null,
   "id": "e09b37ba",
   "metadata": {},
   "outputs": [],
   "source": []
  },
  {
   "cell_type": "markdown",
   "id": "d982bfe2",
   "metadata": {},
   "source": [
    "### Part2. Generative Model - original"
   ]
  },
  {
   "cell_type": "code",
   "execution_count": 34,
   "id": "636c919f",
   "metadata": {},
   "outputs": [
    {
     "name": "stdout",
     "output_type": "stream",
     "text": [
      "0.55 0.25 0.2\n"
     ]
    }
   ],
   "source": [
    "pi_1 = (np.count_nonzero(Class == 1) + np.count_nonzero(Class == 4)) / len(Class)\n",
    "pi_2 = np.count_nonzero(Class == 2) / len(Class)\n",
    "pi_3 = np.count_nonzero(Class == 3) / len(Class)\n",
    "print(pi_1, pi_2, pi_3)"
   ]
  },
  {
   "cell_type": "code",
   "execution_count": 35,
   "id": "196193f4",
   "metadata": {},
   "outputs": [],
   "source": [
    "Class1 = []\n",
    "Class2 = []\n",
    "Class3 = []\n",
    "#Classify the data into tuple according to its class\n",
    "for i in range(len(x1)):\n",
    "    if Class[i] == 1:\n",
    "        Class1.append((x1[i], x2[i]))\n",
    "    elif Class[i] == 2:\n",
    "        Class2.append((x1[i], x2[i]))\n",
    "    elif Class[i] == 3:\n",
    "        Class3.append((x1[i], x2[i]))\n",
    "    elif Class[i] == 4:\n",
    "        Class1.append((x1[i], x2[i]))"
   ]
  },
  {
   "cell_type": "code",
   "execution_count": 36,
   "id": "d388e2b1",
   "metadata": {},
   "outputs": [],
   "source": [
    "mu1 = best_mean(Class1)\n",
    "mu2 = best_mean(Class2)\n",
    "mu3 = best_mean(Class3)"
   ]
  },
  {
   "cell_type": "code",
   "execution_count": 37,
   "id": "ed97d2da",
   "metadata": {},
   "outputs": [],
   "source": [
    "def best_cov(x1, x2, x3):\n",
    "    \"\"\"\n",
    "    x1, x2, x3: list\n",
    "    \"\"\"\n",
    "    temp = 0\n",
    "    mu = 0\n",
    "    \n",
    "    mu = best_mean(Class1)\n",
    "    temp1 = cov(Class1, mu)\n",
    "    mu = best_mean(Class2)\n",
    "    temp2 = cov(Class2, mu)\n",
    "    mu = best_mean(Class3)\n",
    "    temp3 = cov(Class3, mu)\n",
    "    \n",
    "    return (len(x1) * temp1 + len(x2) * temp2 + len(x3) * temp3 ) / (len(x1) + len(x2) + len(x3))"
   ]
  },
  {
   "cell_type": "code",
   "execution_count": 38,
   "id": "b23929ee",
   "metadata": {},
   "outputs": [
    {
     "data": {
      "text/plain": [
       "array([[ 440.36546081, -235.5252043 ],\n",
       "       [-235.5252043 ,  415.67967933]])"
      ]
     },
     "execution_count": 38,
     "metadata": {},
     "output_type": "execute_result"
    }
   ],
   "source": [
    "final_cov = best_cov(Class1, Class2, Class3)\n",
    "final_cov"
   ]
  },
  {
   "cell_type": "code",
   "execution_count": 39,
   "id": "d5aad439",
   "metadata": {},
   "outputs": [],
   "source": [
    "def best_prob(x, m1, m2, m3, cov):\n",
    "    \"\"\"\n",
    "    x: list -> 2 * 1(單筆x data)\n",
    "    return: int\n",
    "    \"\"\"\n",
    "    p_1 = 0\n",
    "    p_2 = 0\n",
    "    p_3 = 0\n",
    "    temp = []\n",
    "    p_1 = pi_1 * Gau(x, m1, cov)\n",
    "    p_2 = pi_2 * Gau(x, m2, cov)\n",
    "    p_3 = pi_3 * Gau(x, m3, cov)\n",
    "    total = p_1 + p_2 + p_3 \n",
    "    temp.append(p_1 / total)\n",
    "    temp.append(p_2 / total)\n",
    "    temp.append(p_3 / total)\n",
    "    return temp.index(max(temp))"
   ]
  },
  {
   "cell_type": "code",
   "execution_count": 41,
   "id": "63afea7a",
   "metadata": {},
   "outputs": [],
   "source": [
    "result = np.zeros((1000, 1000))\n",
    "for x in np.linspace(0.0, 100.0, num=1000):\n",
    "    for y in np.linspace(0.0, 100.0, num=1000):\n",
    "        result[int(x * 10 - 0.001), int(y * 10 - 0.001)] = best_prob(np.array((x, y))[np.newaxis].T, mu1, mu2, mu3, final_cov)"
   ]
  },
  {
   "cell_type": "code",
   "execution_count": 42,
   "id": "21f68357",
   "metadata": {
    "scrolled": true
   },
   "outputs": [
    {
     "data": {
      "text/plain": [
       "<matplotlib.image.AxesImage at 0x1845a4477c0>"
      ]
     },
     "execution_count": 42,
     "metadata": {},
     "output_type": "execute_result"
    },
    {
     "data": {
      "image/png": "[encoded data removed]",
      "text/plain": [
       "<Figure size 300x1000 with 1 Axes>"
      ]
     },
     "metadata": {},
     "output_type": "display_data"
    }
   ],
   "source": [
    "fig , ax = plt.subplots(figsize=(3, 10))\n",
    "plt.imshow(result, cmap = cmap, interpolation = 'none', origin = \"lower\", extent = [0, 100, 0, 100], aspect = 1 / 1.4)"
   ]
  },
  {
   "cell_type": "markdown",
   "id": "0edc178b",
   "metadata": {},
   "source": [
    "### Discriminative model"
   ]
  },
  {
   "cell_type": "code",
   "execution_count": 43,
   "id": "d49dae2a",
   "metadata": {},
   "outputs": [],
   "source": [
    "var_Class = []\n",
    "var_Class.append((np.var(list(zip(*Class1))[0]), np.var(list(zip(*Class1))[1])))\n",
    "var_Class.append((np.var(list(zip(*Class2))[0]), np.var(list(zip(*Class2))[1])))\n",
    "var_Class.append((np.var(list(zip(*Class3))[0]), np.var(list(zip(*Class3))[1])))"
   ]
  },
  {
   "cell_type": "code",
   "execution_count": 44,
   "id": "6b09c03b",
   "metadata": {},
   "outputs": [
    {
     "data": {
      "text/plain": [
       "array([[39.06160684, 60.25114982],\n",
       "       [74.157746  , 75.88818556],\n",
       "       [27.40313325, 26.22084015]])"
      ]
     },
     "execution_count": 44,
     "metadata": {},
     "output_type": "execute_result"
    }
   ],
   "source": [
    "mu = np.zeros((3, 2))\n",
    "mu[0][0] = mu1[0][0]\n",
    "mu[0][1] = mu1[1][0]\n",
    "mu[1][0] = mu2[0][0]\n",
    "mu[1][1] = mu2[1][0]\n",
    "mu[2][0] = mu3[0][0]\n",
    "mu[2][1] = mu3[1][0]\n",
    "mu"
   ]
  },
  {
   "cell_type": "code",
   "execution_count": 120,
   "id": "1e9ea59f",
   "metadata": {},
   "outputs": [],
   "source": [
    "#2D Gaussian basis function\n",
    "def basis(x1, x2, j, M):\n",
    "    \"\"\"\n",
    "    x1, x2: int\n",
    "    y: int\n",
    "    M: int\n",
    "    return: int\n",
    "    \"\"\"\n",
    "    #final_cov\n",
    "    data = np.array((x1, x2))\n",
    "    return np.exp(-0.5 * (data - mu[j]).T @ np.linalg.inv(final_cov) @ (data - mu[j])) / (2 * np.pi * np.sqrt(np.linalg.det(final_cov)))"
   ]
  },
  {
   "cell_type": "code",
   "execution_count": 119,
   "id": "ddf16b5a",
   "metadata": {},
   "outputs": [],
   "source": [
    "def design_matrix(x1, x2, M):\n",
    "    \"\"\"\n",
    "    x1, x2:list\n",
    "    M: int, the number of basis function\n",
    "    return: array\n",
    "    \"\"\"\n",
    "    phi = np.zeros((len(x1), M))\n",
    "    for i in range(len(x1)):\n",
    "        for j in range(3):\n",
    "            phi[i][j] = basis(x1[i], x2[i], j, M)\n",
    "    return phi"
   ]
  },
  {
   "cell_type": "code",
   "execution_count": 121,
   "id": "fc65497b",
   "metadata": {},
   "outputs": [],
   "source": [
    "def logit(x1, x2, M, W):\n",
    "    \"\"\"\n",
    "    x1: list\n",
    "    x2: list\n",
    "    y: list\n",
    "    return: list with 4 int, corresponding to different result of x if subtitute in different logit function\n",
    "    \"\"\"\n",
    "    phi = design_matrix(x1, x2, M)\n",
    "    final = np.zeros((3, len(x1)))\n",
    "    W_ = W.reshape((3, M))\n",
    "    return np.dot(W_, phi.T)"
   ]
  },
  {
   "cell_type": "code",
   "execution_count": 122,
   "id": "19d59349",
   "metadata": {},
   "outputs": [],
   "source": [
    "def y_softmax(x1, x2, M, W):\n",
    "    \"\"\"\n",
    "    x1: list\n",
    "    x2: list\n",
    "    M: int\n",
    "    W: list\n",
    "    return p(C1 | x), p(C2 | x), p(C3 | x), p(C4 | x) in list\n",
    "    \"\"\"\n",
    "    ans = logit(x1, x2, M, W)\n",
    "    y = np.zeros((4, len(x1)))\n",
    "    \n",
    "    for i in range(len(x1)):\n",
    "        nor = 0\n",
    "        for j in range(3):\n",
    "            nor += np.exp(ans[j][i])\n",
    "        for k in range(3):\n",
    "            y[k][i] = np.exp(ans[k][i]) / nor\n",
    "    idx = []\n",
    "    Y = y.T\n",
    "\n",
    "    for i in range(len(Y)):\n",
    "        idx.append(np.argmax(Y[i]) + 1)\n",
    "                   \n",
    "    return Y, idx"
   ]
  },
  {
   "cell_type": "code",
   "execution_count": 123,
   "id": "20bd7250",
   "metadata": {},
   "outputs": [],
   "source": [
    "def deri_Error(x1, x2, y, M, W):\n",
    "    result = np.zeros((4 * M, 1))\n",
    "    phi = design_matrix(x1, x2, M)\n",
    "    prob, idx = y_softmax(x1, x2, M, W)\n",
    "    for j in range(len(prob[0])): #for every class(length: 4)\n",
    "        add = np.zeros((M, 1))\n",
    "        t_n = 0\n",
    "        for i in range(len(prob)): #for every data(length: N)\n",
    "            t_n = 1 if (y[i] - 1) == j else 0\n",
    "            add += [x * (prob[i][j] - t_n) for x in phi[i][np.newaxis].T]\n",
    "        result[j * M:(j + 1) * M] = add\n",
    "    return result"
   ]
  },
  {
   "cell_type": "code",
   "execution_count": 124,
   "id": "58a38953",
   "metadata": {},
   "outputs": [],
   "source": [
    "def H(x1, x2, y, M, W):\n",
    "    result = np.zeros((4 * M, 4 * M))\n",
    "    phi = design_matrix(x1, x2, M)\n",
    "    prob, idx = y_softmax(x1, x2, M, W)\n",
    "    for k in range(4): #row\n",
    "            for j in range(4): #col\n",
    "                add = np.zeros((M, M))\n",
    "                I = 1 if k == j else 0\n",
    "                for w in range(len(y)): #sum up for all data\n",
    "                    mul = prob[w][k]\n",
    "                    minus = prob[w][j]\n",
    "                    add += [x * (mul * (I - minus)) for x in np.dot(phi[w][np.newaxis].T, phi[w][np.newaxis])]\n",
    "                result[k * M:(k + 1) * M, j * M: (j + 1) * M] = add\n",
    "    return result"
   ]
  },
  {
   "cell_type": "code",
   "execution_count": 125,
   "id": "9f32326d",
   "metadata": {},
   "outputs": [],
   "source": [
    "def SVD_inv(H1):\n",
    "    th = 1e-100 #threshold fot small singular values\n",
    "    u, s, vh = np.linalg.svd(H1)\n",
    "    u = np.linalg.inv(u)\n",
    "    s = np.linalg.inv(np.diag(s))\n",
    "    vh = np.linalg.inv(vh)\n",
    "    H1_inv = np.dot(vh, np.dot(s, u))\n",
    "    return H1_inv"
   ]
  },
  {
   "cell_type": "code",
   "execution_count": 126,
   "id": "45e620a3",
   "metadata": {},
   "outputs": [],
   "source": [
    "def Error(x1, x2, M, W):\n",
    "    w = W.reshape(4, M)\n",
    "    phi = design_matrix(x1, x2, M)\n",
    "    a = np.dot(w, phi.T) # k x N\n",
    "    y = y_softmax(x1, x2, M, W)[0]\n",
    "    error = 0  \n",
    "    for j in range(len(x1)):\n",
    "        error += np.log(y[Class[j] - 1][j])\n",
    "\n",
    "    error *= -1          \n",
    "    return error"
   ]
  },
  {
   "cell_type": "markdown",
   "id": "007a14aa",
   "metadata": {},
   "source": [
    "**Iterate the weight**"
   ]
  },
  {
   "cell_type": "code",
   "execution_count": 161,
   "id": "4178793d",
   "metadata": {},
   "outputs": [
    {
     "data": {
      "image/png": "[encoded data removed]",
      "text/plain": [
       "<Figure size 640x480 with 1 Axes>"
      ]
     },
     "metadata": {},
     "output_type": "display_data"
    },
    {
     "data": {
      "image/png": "[encoded data removed]",
      "text/plain": [
       "<Figure size 640x480 with 1 Axes>"
      ]
     },
     "metadata": {},
     "output_type": "display_data"
    },
    {
     "data": {
      "image/png": "[encoded data removed]",
      "text/plain": [
       "<Figure size 640x480 with 1 Axes>"
      ]
     },
     "metadata": {},
     "output_type": "display_data"
    },
    {
     "data": {
      "image/png": "[encoded data removed]",
      "text/plain": [
       "<Figure size 640x480 with 1 Axes>"
      ]
     },
     "metadata": {},
     "output_type": "display_data"
    },
    {
     "data": {
      "image/png": "[encoded data removed]",
      "text/plain": [
       "<Figure size 640x480 with 1 Axes>"
      ]
     },
     "metadata": {},
     "output_type": "display_data"
    },
    {
     "data": {
      "image/png": "[encoded data removed]",
      "text/plain": [
       "<Figure size 640x480 with 1 Axes>"
      ]
     },
     "metadata": {},
     "output_type": "display_data"
    }
   ],
   "source": [
    "store = []\n",
    "count = 0\n",
    "M = 4\n",
    "#abs(old - new) > 0.00001\n",
    "lst = []\n",
    "for x in np.linspace(0.0, 100.0, num=1000):\n",
    "    for y in np.linspace(0.0, 100.0, num=1000):\n",
    "        lst.append((x, y)) \n",
    "input_1 = [i[0] for i in lst]\n",
    "input_2 = [i[1] for i in lst]\n",
    "count = 0\n",
    "stop = 0\n",
    "while True:  \n",
    "    if count > 4 or stop > 5:\n",
    "        break\n",
    "    X1 = x1\n",
    "    X2 = x2\n",
    "    Y = Class\n",
    "    H1 = H(X1, X2, M, W)\n",
    "    H1_inv = SVD_inv(H1)\n",
    "    old_error = Error(X1, X2, M, W)\n",
    "    prob, idx = y_softmax(input_1, input_2, M, W)\n",
    "    result = np.array(idx).reshape((1000, 1000))\n",
    "    fig , ax = plt.subplots(figsize=(3, 10))\n",
    "    plt.imshow(result, cmap = cmap, interpolation = 'none', origin = \"lower\", extent = [0, 100, 0, 100], aspect = 1 / 1.4)\n",
    "    \n",
    "    W = W - np.dot(H1_inv, deri_Error(X1, X2, Y, M, W))\n",
    "    #W = W - np.array([x * 0.05 for x in deri_Error(X1, X2, Class, M, W)])\n",
    "    new_error = Error(X1, X2, M, W)\n",
    "    '''if old_error - new_error < 0.00001:\n",
    "        stop += 1'''\n",
    "    store.append(W)\n",
    "    print(count)\n",
    "    count += 1"
   ]
  },
  {
   "cell_type": "code",
   "execution_count": null,
   "id": "9976e738",
   "metadata": {},
   "outputs": [],
   "source": []
  },
  {
   "cell_type": "code",
   "execution_count": null,
   "id": "99df45ac",
   "metadata": {},
   "outputs": [],
   "source": []
  }
 ],
 "metadata": {
  "kernelspec": {
   "display_name": "Python 3 (ipykernel)",
   "language": "python",
   "name": "python3"
  },
  "language_info": {
   "codemirror_mode": {
    "name": "ipython",
    "version": 3
   },
   "file_extension": ".py",
   "mimetype": "text/x-python",
   "name": "python",
   "nbconvert_exporter": "python",
   "pygments_lexer": "ipython3",
   "version": "3.9.13"
  }
 },
 "nbformat": 4,
 "nbformat_minor": 5
}
