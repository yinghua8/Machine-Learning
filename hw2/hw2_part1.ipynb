{
 "cells": [
  {
   "cell_type": "code",
   "execution_count": 1,
   "id": "bdc496f3",
   "metadata": {},
   "outputs": [],
   "source": [
    "import numpy as np\n",
    "import pandas as pd\n",
    "import matplotlib.pyplot as plt\n",
    "import math\n",
    "import matplotlib as mpl\n",
    "import random"
   ]
  },
  {
   "cell_type": "code",
   "execution_count": 2,
   "id": "02135af3",
   "metadata": {},
   "outputs": [
    {
     "data": {
      "text/html": [
       "<div>\n",
       "<style scoped>\n",
       "    .dataframe tbody tr th:only-of-type {\n",
       "        vertical-align: middle;\n",
       "    }\n",
       "\n",
       "    .dataframe tbody tr th {\n",
       "        vertical-align: top;\n",
       "    }\n",
       "\n",
       "    .dataframe thead th {\n",
       "        text-align: right;\n",
       "    }\n",
       "</style>\n",
       "<table border=\"1\" class=\"dataframe\">\n",
       "  <thead>\n",
       "    <tr style=\"text-align: right;\">\n",
       "      <th></th>\n",
       "      <th>Unnamed: 0</th>\n",
       "      <th>x1</th>\n",
       "      <th>x2</th>\n",
       "      <th>class</th>\n",
       "    </tr>\n",
       "  </thead>\n",
       "  <tbody>\n",
       "    <tr>\n",
       "      <th>0</th>\n",
       "      <td>0</td>\n",
       "      <td>18.73341</td>\n",
       "      <td>64.74255</td>\n",
       "      <td>1</td>\n",
       "    </tr>\n",
       "    <tr>\n",
       "      <th>1</th>\n",
       "      <td>1</td>\n",
       "      <td>3.99410</td>\n",
       "      <td>90.31358</td>\n",
       "      <td>1</td>\n",
       "    </tr>\n",
       "    <tr>\n",
       "      <th>2</th>\n",
       "      <td>2</td>\n",
       "      <td>23.39904</td>\n",
       "      <td>87.20672</td>\n",
       "      <td>1</td>\n",
       "    </tr>\n",
       "    <tr>\n",
       "      <th>3</th>\n",
       "      <td>3</td>\n",
       "      <td>24.83011</td>\n",
       "      <td>65.38512</td>\n",
       "      <td>1</td>\n",
       "    </tr>\n",
       "    <tr>\n",
       "      <th>4</th>\n",
       "      <td>4</td>\n",
       "      <td>13.73641</td>\n",
       "      <td>53.82633</td>\n",
       "      <td>1</td>\n",
       "    </tr>\n",
       "    <tr>\n",
       "      <th>...</th>\n",
       "      <td>...</td>\n",
       "      <td>...</td>\n",
       "      <td>...</td>\n",
       "      <td>...</td>\n",
       "    </tr>\n",
       "    <tr>\n",
       "      <th>995</th>\n",
       "      <td>995</td>\n",
       "      <td>54.10317</td>\n",
       "      <td>17.12986</td>\n",
       "      <td>4</td>\n",
       "    </tr>\n",
       "    <tr>\n",
       "      <th>996</th>\n",
       "      <td>996</td>\n",
       "      <td>93.22444</td>\n",
       "      <td>11.30329</td>\n",
       "      <td>4</td>\n",
       "    </tr>\n",
       "    <tr>\n",
       "      <th>997</th>\n",
       "      <td>997</td>\n",
       "      <td>86.16369</td>\n",
       "      <td>28.73599</td>\n",
       "      <td>4</td>\n",
       "    </tr>\n",
       "    <tr>\n",
       "      <th>998</th>\n",
       "      <td>998</td>\n",
       "      <td>79.43405</td>\n",
       "      <td>22.69025</td>\n",
       "      <td>4</td>\n",
       "    </tr>\n",
       "    <tr>\n",
       "      <th>999</th>\n",
       "      <td>999</td>\n",
       "      <td>56.86633</td>\n",
       "      <td>17.46885</td>\n",
       "      <td>4</td>\n",
       "    </tr>\n",
       "  </tbody>\n",
       "</table>\n",
       "<p>1000 rows × 4 columns</p>\n",
       "</div>"
      ],
      "text/plain": [
       "     Unnamed: 0        x1        x2  class\n",
       "0             0  18.73341  64.74255      1\n",
       "1             1   3.99410  90.31358      1\n",
       "2             2  23.39904  87.20672      1\n",
       "3             3  24.83011  65.38512      1\n",
       "4             4  13.73641  53.82633      1\n",
       "..          ...       ...       ...    ...\n",
       "995         995  54.10317  17.12986      4\n",
       "996         996  93.22444  11.30329      4\n",
       "997         997  86.16369  28.73599      4\n",
       "998         998  79.43405  22.69025      4\n",
       "999         999  56.86633  17.46885      4\n",
       "\n",
       "[1000 rows x 4 columns]"
      ]
     },
     "execution_count": 2,
     "metadata": {},
     "output_type": "execute_result"
    }
   ],
   "source": [
    "data = pd.read_excel(\"D:\\大四下\\ML\\HW2\\HW2.xlsx\")\n",
    "data"
   ]
  },
  {
   "cell_type": "code",
   "execution_count": 3,
   "id": "d94db593",
   "metadata": {
    "scrolled": false
   },
   "outputs": [
    {
     "data": {
      "text/plain": [
       "0        0\n",
       "1        1\n",
       "2        2\n",
       "3        3\n",
       "4        4\n",
       "      ... \n",
       "995    995\n",
       "996    996\n",
       "997    997\n",
       "998    998\n",
       "999    999\n",
       "Name: Unnamed: 0, Length: 1000, dtype: int64"
      ]
     },
     "execution_count": 3,
     "metadata": {},
     "output_type": "execute_result"
    }
   ],
   "source": [
    "data.pop('Unnamed: 0')"
   ]
  },
  {
   "cell_type": "code",
   "execution_count": 4,
   "id": "78c6f184",
   "metadata": {},
   "outputs": [
    {
     "data": {
      "text/html": [
       "<div>\n",
       "<style scoped>\n",
       "    .dataframe tbody tr th:only-of-type {\n",
       "        vertical-align: middle;\n",
       "    }\n",
       "\n",
       "    .dataframe tbody tr th {\n",
       "        vertical-align: top;\n",
       "    }\n",
       "\n",
       "    .dataframe thead th {\n",
       "        text-align: right;\n",
       "    }\n",
       "</style>\n",
       "<table border=\"1\" class=\"dataframe\">\n",
       "  <thead>\n",
       "    <tr style=\"text-align: right;\">\n",
       "      <th></th>\n",
       "      <th>x1</th>\n",
       "      <th>x2</th>\n",
       "      <th>class</th>\n",
       "    </tr>\n",
       "  </thead>\n",
       "  <tbody>\n",
       "    <tr>\n",
       "      <th>0</th>\n",
       "      <td>18.73341</td>\n",
       "      <td>64.74255</td>\n",
       "      <td>1</td>\n",
       "    </tr>\n",
       "    <tr>\n",
       "      <th>1</th>\n",
       "      <td>3.99410</td>\n",
       "      <td>90.31358</td>\n",
       "      <td>1</td>\n",
       "    </tr>\n",
       "    <tr>\n",
       "      <th>2</th>\n",
       "      <td>23.39904</td>\n",
       "      <td>87.20672</td>\n",
       "      <td>1</td>\n",
       "    </tr>\n",
       "    <tr>\n",
       "      <th>3</th>\n",
       "      <td>24.83011</td>\n",
       "      <td>65.38512</td>\n",
       "      <td>1</td>\n",
       "    </tr>\n",
       "    <tr>\n",
       "      <th>4</th>\n",
       "      <td>13.73641</td>\n",
       "      <td>53.82633</td>\n",
       "      <td>1</td>\n",
       "    </tr>\n",
       "    <tr>\n",
       "      <th>...</th>\n",
       "      <td>...</td>\n",
       "      <td>...</td>\n",
       "      <td>...</td>\n",
       "    </tr>\n",
       "    <tr>\n",
       "      <th>995</th>\n",
       "      <td>54.10317</td>\n",
       "      <td>17.12986</td>\n",
       "      <td>4</td>\n",
       "    </tr>\n",
       "    <tr>\n",
       "      <th>996</th>\n",
       "      <td>93.22444</td>\n",
       "      <td>11.30329</td>\n",
       "      <td>4</td>\n",
       "    </tr>\n",
       "    <tr>\n",
       "      <th>997</th>\n",
       "      <td>86.16369</td>\n",
       "      <td>28.73599</td>\n",
       "      <td>4</td>\n",
       "    </tr>\n",
       "    <tr>\n",
       "      <th>998</th>\n",
       "      <td>79.43405</td>\n",
       "      <td>22.69025</td>\n",
       "      <td>4</td>\n",
       "    </tr>\n",
       "    <tr>\n",
       "      <th>999</th>\n",
       "      <td>56.86633</td>\n",
       "      <td>17.46885</td>\n",
       "      <td>4</td>\n",
       "    </tr>\n",
       "  </tbody>\n",
       "</table>\n",
       "<p>1000 rows × 3 columns</p>\n",
       "</div>"
      ],
      "text/plain": [
       "           x1        x2  class\n",
       "0    18.73341  64.74255      1\n",
       "1     3.99410  90.31358      1\n",
       "2    23.39904  87.20672      1\n",
       "3    24.83011  65.38512      1\n",
       "4    13.73641  53.82633      1\n",
       "..        ...       ...    ...\n",
       "995  54.10317  17.12986      4\n",
       "996  93.22444  11.30329      4\n",
       "997  86.16369  28.73599      4\n",
       "998  79.43405  22.69025      4\n",
       "999  56.86633  17.46885      4\n",
       "\n",
       "[1000 rows x 3 columns]"
      ]
     },
     "execution_count": 4,
     "metadata": {},
     "output_type": "execute_result"
    }
   ],
   "source": [
    "data"
   ]
  },
  {
   "cell_type": "code",
   "execution_count": 5,
   "id": "71b82da4",
   "metadata": {},
   "outputs": [],
   "source": [
    "data = data.to_numpy()"
   ]
  },
  {
   "cell_type": "code",
   "execution_count": 6,
   "id": "8e41ed15",
   "metadata": {},
   "outputs": [],
   "source": [
    "x1 = data[:, 0]\n",
    "x2 = data[:, 1]\n",
    "Class = data[:, 2]"
   ]
  },
  {
   "cell_type": "markdown",
   "id": "419e1c42",
   "metadata": {},
   "source": [
    "### Part1. Generative Model"
   ]
  },
  {
   "cell_type": "code",
   "execution_count": 7,
   "id": "ea882eaf",
   "metadata": {},
   "outputs": [
    {
     "name": "stdout",
     "output_type": "stream",
     "text": [
      "0.4 0.25 0.2 0.15\n"
     ]
    }
   ],
   "source": [
    "pi_1 = np.count_nonzero(Class == 1) / len(Class)\n",
    "pi_2 = np.count_nonzero(Class == 2) / len(Class)\n",
    "pi_3 = np.count_nonzero(Class == 3) / len(Class)\n",
    "pi_4 = np.count_nonzero(Class == 4) / len(Class)\n",
    "print(pi_1, pi_2, pi_3, pi_4)"
   ]
  },
  {
   "cell_type": "markdown",
   "id": "98968a2e",
   "metadata": {},
   "source": [
    "**clarify data in different class**"
   ]
  },
  {
   "cell_type": "code",
   "execution_count": 8,
   "id": "9f4a7084",
   "metadata": {},
   "outputs": [],
   "source": [
    "Class1 = []\n",
    "Class2 = []\n",
    "Class3 = []\n",
    "Class4 = []\n",
    "#Classify the data into tuple according to its class\n",
    "for i in range(len(x1)):\n",
    "    if Class[i] == 1:\n",
    "        Class1.append((x1[i], x2[i]))\n",
    "    elif Class[i] == 2:\n",
    "        Class2.append((x1[i], x2[i]))\n",
    "    if Class[i] == 3:\n",
    "        Class3.append((x1[i], x2[i]))\n",
    "    if Class[i] == 4:\n",
    "        Class4.append((x1[i], x2[i]))"
   ]
  },
  {
   "cell_type": "markdown",
   "id": "631f6a63",
   "metadata": {},
   "source": [
    "**Define Gaussian distribution of p(x|C)**"
   ]
  },
  {
   "cell_type": "code",
   "execution_count": 9,
   "id": "67c41b0e",
   "metadata": {},
   "outputs": [],
   "source": [
    "def Gau(x, mu, cov):\n",
    "    \"\"\"\n",
    "    x: (x1, x2) tuple\n",
    "    mu: (u1, u2) tuple\n",
    "    \"\"\"\n",
    "    prob = (1 / 2 * math.pi) * (1 / np.linalg.det(cov) ** (1 / 2)) * math.exp(-1/2 * np.dot(np.dot((x - mu).T, np.linalg.inv(cov)), (x - mu)))\n",
    "    return prob"
   ]
  },
  {
   "cell_type": "markdown",
   "id": "bcbd764a",
   "metadata": {},
   "source": [
    "**Best Mean & Covariance Matrix(Closed form)**"
   ]
  },
  {
   "cell_type": "code",
   "execution_count": 10,
   "id": "461285b7",
   "metadata": {},
   "outputs": [],
   "source": [
    "def best_mean(x):\n",
    "    \"\"\"\n",
    "    x: list -> 2 * N\n",
    "    element in x: tuple -> 1 * 2\n",
    "    return best mean: u1, u2 -> 2 * 1\n",
    "    \"\"\"\n",
    "    temp0 = 0\n",
    "    temp1 = 0\n",
    "    for i in x:\n",
    "        temp0 += i[0]\n",
    "        temp1 += i[1]\n",
    "    length = len(x)\n",
    "    return np.array((temp0 / length, temp1 / length))[np.newaxis].T"
   ]
  },
  {
   "cell_type": "code",
   "execution_count": 11,
   "id": "0ed1b2e7",
   "metadata": {},
   "outputs": [],
   "source": [
    "def cov(x, u):\n",
    "    \"\"\"\n",
    "    x: list\n",
    "    u: tuple of (u1, u2)\n",
    "    \"\"\"\n",
    "    ans = np.zeros((2, 2))\n",
    "    for i in x:\n",
    "        temp = np.array(i)[np.newaxis].T - u\n",
    "        ans += np.dot(temp, temp.T)\n",
    "    ans /= len(x)\n",
    "    return ans"
   ]
  },
  {
   "cell_type": "code",
   "execution_count": 12,
   "id": "5b9e6f06",
   "metadata": {},
   "outputs": [],
   "source": [
    "mu1 = best_mean(Class1)\n",
    "mu2 = best_mean(Class2)\n",
    "mu3 = best_mean(Class3)\n",
    "mu4 = best_mean(Class4)"
   ]
  },
  {
   "cell_type": "code",
   "execution_count": 13,
   "id": "3c02bce8",
   "metadata": {},
   "outputs": [],
   "source": [
    "def best_cov(x1, x2, x3, x4):\n",
    "    \"\"\"\n",
    "    x1, x2, x3, x4: list\n",
    "    \"\"\"\n",
    "    temp = 0\n",
    "    mu = 0\n",
    "    \n",
    "    mu = best_mean(Class1)\n",
    "    temp1 = cov(Class1, mu)\n",
    "    mu = best_mean(Class2)\n",
    "    temp2 = cov(Class2, mu)\n",
    "    mu = best_mean(Class3)\n",
    "    temp3 = cov(Class3, mu)\n",
    "    mu = best_mean(Class4)\n",
    "    temp4 = cov(Class4, mu)\n",
    "    \n",
    "    return (len(x1) * temp1 + len(x2) * temp2 + len(x3) * temp3 + len(x4) * temp4) / (len(x1) + len(x2) + len(x3) + len(x4))"
   ]
  },
  {
   "cell_type": "code",
   "execution_count": 14,
   "id": "20f18965",
   "metadata": {},
   "outputs": [
    {
     "data": {
      "text/plain": [
       "array([[186.38980095,   7.86502509],\n",
       "       [  7.86502509, 182.43369113]])"
      ]
     },
     "execution_count": 14,
     "metadata": {},
     "output_type": "execute_result"
    }
   ],
   "source": [
    "final_cov = best_cov(Class1, Class2, Class3, Class4)\n",
    "final_cov"
   ]
  },
  {
   "cell_type": "markdown",
   "id": "5681d01d",
   "metadata": {},
   "source": [
    "**obtain p(x|C) and determine which calss does x belongs to**"
   ]
  },
  {
   "cell_type": "code",
   "execution_count": 15,
   "id": "f5d21a95",
   "metadata": {},
   "outputs": [],
   "source": [
    "def best_prob(x, m1, m2, m3, m4, cov):\n",
    "    \"\"\"\n",
    "    x: list -> 2 * 1(單筆x data)\n",
    "    return: int\n",
    "    \"\"\"\n",
    "    p_1 = 0\n",
    "    p_2 = 0\n",
    "    p_3 = 0\n",
    "    p_4 = 0\n",
    "    temp = []\n",
    "    p_1 = pi_1 * Gau(x, m1, cov)\n",
    "    p_2 = pi_2 * Gau(x, m2, cov)\n",
    "    p_3 = pi_3 * Gau(x, m3, cov)\n",
    "    p_4 = pi_4 * Gau(x, m4, cov)\n",
    "    total = p_1 + p_2 + p_3 + p_4\n",
    "    temp.append(p_1 / total)\n",
    "    temp.append(p_2 / total)\n",
    "    temp.append(p_3 / total)\n",
    "    temp.append(p_4 / total)\n",
    "    return temp.index(max(temp))"
   ]
  },
  {
   "cell_type": "code",
   "execution_count": null,
   "id": "986041cf",
   "metadata": {},
   "outputs": [],
   "source": [
    "result = np.zeros((1000, 1000))\n",
    "for x in np.linspace(0.0, 100.0, num=1000):\n",
    "    for y in np.linspace(0.0, 100.0, num=1000):\n",
    "        result[int(x * 10 - 0.001), int(y * 10 - 0.001)] = best_prob(np.array((x, y))[np.newaxis].T, mu1, mu2, mu3, mu4, final_cov)"
   ]
  },
  {
   "cell_type": "code",
   "execution_count": 17,
   "id": "148a1377",
   "metadata": {
    "scrolled": true
   },
   "outputs": [
    {
     "data": {
      "text/plain": [
       "array([[2., 2., 2., ..., 0., 0., 0.],\n",
       "       [2., 2., 2., ..., 0., 0., 0.],\n",
       "       [2., 2., 2., ..., 0., 0., 0.],\n",
       "       ...,\n",
       "       [3., 3., 3., ..., 1., 1., 1.],\n",
       "       [3., 3., 3., ..., 1., 1., 1.],\n",
       "       [3., 3., 3., ..., 1., 1., 1.]])"
      ]
     },
     "execution_count": 17,
     "metadata": {},
     "output_type": "execute_result"
    }
   ],
   "source": [
    "result"
   ]
  },
  {
   "cell_type": "code",
   "execution_count": 18,
   "id": "c270cf77",
   "metadata": {},
   "outputs": [],
   "source": [
    "#blue -> 1\n",
    "#green -> 2\n",
    "#red -> 3\n",
    "#black -> 4\n",
    "cmap = mpl.colors.ListedColormap(['b', 'g', 'r', '#000000'])"
   ]
  },
  {
   "cell_type": "code",
   "execution_count": 19,
   "id": "baba5a59",
   "metadata": {},
   "outputs": [
    {
     "data": {
      "text/plain": [
       "<matplotlib.image.AxesImage at 0x22c73e0de80>"
      ]
     },
     "execution_count": 19,
     "metadata": {},
     "output_type": "execute_result"
    },
    {
     "data": {
      "image/png": "[encoded data removed]",
      "text/plain": [
       "<Figure size 300x1000 with 1 Axes>"
      ]
     },
     "metadata": {},
     "output_type": "display_data"
    }
   ],
   "source": [
    "fig , ax = plt.subplots(figsize=(3, 10))\n",
    "plt.imshow(result, cmap = cmap, interpolation = 'none', origin = \"lower\", extent = [0, 100, 0, 100], aspect = 1 / 1.4)"
   ]
  },
  {
   "cell_type": "code",
   "execution_count": 18,
   "id": "a73094f0",
   "metadata": {
    "scrolled": true
   },
   "outputs": [
    {
     "data": {
      "text/html": [
       "<div>\n",
       "<style scoped>\n",
       "    .dataframe tbody tr th:only-of-type {\n",
       "        vertical-align: middle;\n",
       "    }\n",
       "\n",
       "    .dataframe tbody tr th {\n",
       "        vertical-align: top;\n",
       "    }\n",
       "\n",
       "    .dataframe thead th {\n",
       "        text-align: right;\n",
       "    }\n",
       "</style>\n",
       "<table border=\"1\" class=\"dataframe\">\n",
       "  <thead>\n",
       "    <tr style=\"text-align: right;\">\n",
       "      <th></th>\n",
       "      <th>Unnamed: 0</th>\n",
       "      <th>x1</th>\n",
       "      <th>x2</th>\n",
       "    </tr>\n",
       "  </thead>\n",
       "  <tbody>\n",
       "    <tr>\n",
       "      <th>0</th>\n",
       "      <td>0</td>\n",
       "      <td>25.33270</td>\n",
       "      <td>60.77430</td>\n",
       "    </tr>\n",
       "    <tr>\n",
       "      <th>1</th>\n",
       "      <td>1</td>\n",
       "      <td>68.65419</td>\n",
       "      <td>92.65231</td>\n",
       "    </tr>\n",
       "    <tr>\n",
       "      <th>2</th>\n",
       "      <td>2</td>\n",
       "      <td>76.50180</td>\n",
       "      <td>10.90763</td>\n",
       "    </tr>\n",
       "    <tr>\n",
       "      <th>3</th>\n",
       "      <td>3</td>\n",
       "      <td>55.31886</td>\n",
       "      <td>52.93528</td>\n",
       "    </tr>\n",
       "    <tr>\n",
       "      <th>4</th>\n",
       "      <td>4</td>\n",
       "      <td>6.81996</td>\n",
       "      <td>78.10947</td>\n",
       "    </tr>\n",
       "    <tr>\n",
       "      <th>...</th>\n",
       "      <td>...</td>\n",
       "      <td>...</td>\n",
       "      <td>...</td>\n",
       "    </tr>\n",
       "    <tr>\n",
       "      <th>9995</th>\n",
       "      <td>9995</td>\n",
       "      <td>70.07158</td>\n",
       "      <td>73.27779</td>\n",
       "    </tr>\n",
       "    <tr>\n",
       "      <th>9996</th>\n",
       "      <td>9996</td>\n",
       "      <td>24.82610</td>\n",
       "      <td>35.17770</td>\n",
       "    </tr>\n",
       "    <tr>\n",
       "      <th>9997</th>\n",
       "      <td>9997</td>\n",
       "      <td>46.99942</td>\n",
       "      <td>18.74366</td>\n",
       "    </tr>\n",
       "    <tr>\n",
       "      <th>9998</th>\n",
       "      <td>9998</td>\n",
       "      <td>10.22575</td>\n",
       "      <td>93.15863</td>\n",
       "    </tr>\n",
       "    <tr>\n",
       "      <th>9999</th>\n",
       "      <td>9999</td>\n",
       "      <td>14.18564</td>\n",
       "      <td>76.84959</td>\n",
       "    </tr>\n",
       "  </tbody>\n",
       "</table>\n",
       "<p>10000 rows × 3 columns</p>\n",
       "</div>"
      ],
      "text/plain": [
       "      Unnamed: 0        x1        x2\n",
       "0              0  25.33270  60.77430\n",
       "1              1  68.65419  92.65231\n",
       "2              2  76.50180  10.90763\n",
       "3              3  55.31886  52.93528\n",
       "4              4   6.81996  78.10947\n",
       "...          ...       ...       ...\n",
       "9995        9995  70.07158  73.27779\n",
       "9996        9996  24.82610  35.17770\n",
       "9997        9997  46.99942  18.74366\n",
       "9998        9998  10.22575  93.15863\n",
       "9999        9999  14.18564  76.84959\n",
       "\n",
       "[10000 rows x 3 columns]"
      ]
     },
     "execution_count": 18,
     "metadata": {},
     "output_type": "execute_result"
    }
   ],
   "source": [
    "test_data = pd.read_excel(\"D:\\\\大四下\\\\ML\\\\hw2_demo\\\\testingData.xlsx\")\n",
    "test_data"
   ]
  },
  {
   "cell_type": "code",
   "execution_count": 19,
   "id": "29fc137a",
   "metadata": {
    "scrolled": true
   },
   "outputs": [
    {
     "data": {
      "text/plain": [
       "0          0\n",
       "1          1\n",
       "2          2\n",
       "3          3\n",
       "4          4\n",
       "        ... \n",
       "9995    9995\n",
       "9996    9996\n",
       "9997    9997\n",
       "9998    9998\n",
       "9999    9999\n",
       "Name: Unnamed: 0, Length: 10000, dtype: int64"
      ]
     },
     "execution_count": 19,
     "metadata": {},
     "output_type": "execute_result"
    }
   ],
   "source": [
    "test_data.pop('Unnamed: 0')"
   ]
  },
  {
   "cell_type": "code",
   "execution_count": 20,
   "id": "74c193c7",
   "metadata": {
    "scrolled": true
   },
   "outputs": [
    {
     "data": {
      "text/html": [
       "<div>\n",
       "<style scoped>\n",
       "    .dataframe tbody tr th:only-of-type {\n",
       "        vertical-align: middle;\n",
       "    }\n",
       "\n",
       "    .dataframe tbody tr th {\n",
       "        vertical-align: top;\n",
       "    }\n",
       "\n",
       "    .dataframe thead th {\n",
       "        text-align: right;\n",
       "    }\n",
       "</style>\n",
       "<table border=\"1\" class=\"dataframe\">\n",
       "  <thead>\n",
       "    <tr style=\"text-align: right;\">\n",
       "      <th></th>\n",
       "      <th>x1</th>\n",
       "      <th>x2</th>\n",
       "    </tr>\n",
       "  </thead>\n",
       "  <tbody>\n",
       "    <tr>\n",
       "      <th>0</th>\n",
       "      <td>25.33270</td>\n",
       "      <td>60.77430</td>\n",
       "    </tr>\n",
       "    <tr>\n",
       "      <th>1</th>\n",
       "      <td>68.65419</td>\n",
       "      <td>92.65231</td>\n",
       "    </tr>\n",
       "    <tr>\n",
       "      <th>2</th>\n",
       "      <td>76.50180</td>\n",
       "      <td>10.90763</td>\n",
       "    </tr>\n",
       "    <tr>\n",
       "      <th>3</th>\n",
       "      <td>55.31886</td>\n",
       "      <td>52.93528</td>\n",
       "    </tr>\n",
       "    <tr>\n",
       "      <th>4</th>\n",
       "      <td>6.81996</td>\n",
       "      <td>78.10947</td>\n",
       "    </tr>\n",
       "    <tr>\n",
       "      <th>...</th>\n",
       "      <td>...</td>\n",
       "      <td>...</td>\n",
       "    </tr>\n",
       "    <tr>\n",
       "      <th>9995</th>\n",
       "      <td>70.07158</td>\n",
       "      <td>73.27779</td>\n",
       "    </tr>\n",
       "    <tr>\n",
       "      <th>9996</th>\n",
       "      <td>24.82610</td>\n",
       "      <td>35.17770</td>\n",
       "    </tr>\n",
       "    <tr>\n",
       "      <th>9997</th>\n",
       "      <td>46.99942</td>\n",
       "      <td>18.74366</td>\n",
       "    </tr>\n",
       "    <tr>\n",
       "      <th>9998</th>\n",
       "      <td>10.22575</td>\n",
       "      <td>93.15863</td>\n",
       "    </tr>\n",
       "    <tr>\n",
       "      <th>9999</th>\n",
       "      <td>14.18564</td>\n",
       "      <td>76.84959</td>\n",
       "    </tr>\n",
       "  </tbody>\n",
       "</table>\n",
       "<p>10000 rows × 2 columns</p>\n",
       "</div>"
      ],
      "text/plain": [
       "            x1        x2\n",
       "0     25.33270  60.77430\n",
       "1     68.65419  92.65231\n",
       "2     76.50180  10.90763\n",
       "3     55.31886  52.93528\n",
       "4      6.81996  78.10947\n",
       "...        ...       ...\n",
       "9995  70.07158  73.27779\n",
       "9996  24.82610  35.17770\n",
       "9997  46.99942  18.74366\n",
       "9998  10.22575  93.15863\n",
       "9999  14.18564  76.84959\n",
       "\n",
       "[10000 rows x 2 columns]"
      ]
     },
     "execution_count": 20,
     "metadata": {},
     "output_type": "execute_result"
    }
   ],
   "source": [
    "test_data"
   ]
  },
  {
   "cell_type": "code",
   "execution_count": null,
   "id": "904b0832",
   "metadata": {},
   "outputs": [],
   "source": [
    "test_data = test_data.to_numpy()"
   ]
  },
  {
   "cell_type": "code",
   "execution_count": 24,
   "id": "20d95895",
   "metadata": {},
   "outputs": [
    {
     "data": {
      "text/plain": [
       "array([25.3327, 60.7743])"
      ]
     },
     "execution_count": 24,
     "metadata": {},
     "output_type": "execute_result"
    }
   ],
   "source": [
    "test_data[0]"
   ]
  },
  {
   "cell_type": "code",
   "execution_count": 45,
   "id": "68185ea7",
   "metadata": {},
   "outputs": [],
   "source": [
    "gen_1 = []\n",
    "for i in range(len(test_data)):\n",
    "    gen_1.append(best_prob(np.array((test_data[i][0], test_data[i][1]))[np.newaxis].T, mu1, mu2, mu3, mu4, final_cov) + 1)"
   ]
  },
  {
   "cell_type": "code",
   "execution_count": 46,
   "id": "8f5d1a92",
   "metadata": {},
   "outputs": [],
   "source": [
    "gen_1 = pd.DataFrame(gen_1)"
   ]
  },
  {
   "cell_type": "code",
   "execution_count": 47,
   "id": "4d001b34",
   "metadata": {},
   "outputs": [
    {
     "data": {
      "text/plain": [
       "10000"
      ]
     },
     "execution_count": 47,
     "metadata": {},
     "output_type": "execute_result"
    }
   ],
   "source": [
    "len(gen_1)"
   ]
  },
  {
   "cell_type": "code",
   "execution_count": 48,
   "id": "2ff52c38",
   "metadata": {},
   "outputs": [],
   "source": [
    "gen_1.to_csv('D:\\\\大四下\\\\ML\\\\hw2_demo\\\\A.csv')"
   ]
  },
  {
   "cell_type": "markdown",
   "id": "797123c6",
   "metadata": {},
   "source": [
    "### Part1. Discriminative Model"
   ]
  },
  {
   "cell_type": "code",
   "execution_count": 20,
   "id": "7ec4560e",
   "metadata": {},
   "outputs": [],
   "source": [
    "var_Class = []\n",
    "var_Class.append((np.var(list(zip(*Class1))[0]), np.var(list(zip(*Class1))[1])))\n",
    "var_Class.append((np.var(list(zip(*Class2))[0]), np.var(list(zip(*Class2))[1])))\n",
    "var_Class.append((np.var(list(zip(*Class3))[0]), np.var(list(zip(*Class3))[1])))\n",
    "var_Class.append((np.var(list(zip(*Class4))[0]), np.var(list(zip(*Class4))[1])))"
   ]
  },
  {
   "cell_type": "code",
   "execution_count": 695,
   "id": "1c8e0ac1",
   "metadata": {},
   "outputs": [
    {
     "data": {
      "text/plain": [
       "array([[25.90238108, 72.8619133 ],\n",
       "       [74.157746  , 75.88818556],\n",
       "       [27.40313325, 26.22084015],\n",
       "       [74.15287553, 26.6224472 ]])"
      ]
     },
     "execution_count": 695,
     "metadata": {},
     "output_type": "execute_result"
    }
   ],
   "source": [
    "mu = np.zeros((4, 2))\n",
    "mu[0][0] = mu1[0][0]\n",
    "mu[0][1] = mu1[1][0]\n",
    "mu[1][0] = mu2[0][0]\n",
    "mu[1][1] = mu2[1][0]\n",
    "mu[2][0] = mu3[0][0]\n",
    "mu[2][1] = mu3[1][0]\n",
    "mu[3][0] = mu4[0][0]\n",
    "mu[3][1] = mu4[1][0]\n",
    "mu"
   ]
  },
  {
   "cell_type": "code",
   "execution_count": 22,
   "id": "78957faf",
   "metadata": {},
   "outputs": [
    {
     "data": {
      "text/plain": [
       "[(192.53579591541157, 177.1388717487521),\n",
       " (182.12759912658558, 179.29559043342388),\n",
       " (199.8670559651959, 204.2028149080975),\n",
       " (159.13447736141006, 172.75787890503082)]"
      ]
     },
     "execution_count": 22,
     "metadata": {},
     "output_type": "execute_result"
    }
   ],
   "source": [
    "var_Class"
   ]
  },
  {
   "cell_type": "code",
   "execution_count": 696,
   "id": "3a8c7487",
   "metadata": {},
   "outputs": [],
   "source": [
    "#2D Gaussian basis function\n",
    "def basis(x1, x2, j, M):\n",
    "    \"\"\"\n",
    "    x1, x2: int\n",
    "    y: int\n",
    "    M: int\n",
    "    return: int\n",
    "    \"\"\"\n",
    "    #final_cov\n",
    "    data = np.array((x1, x2))\n",
    "    return np.exp(-0.5 * (data - mu[j]).T @ np.linalg.inv(final_cov) @ (data - mu[j])) / (2 * np.pi * np.sqrt(np.linalg.det(final_cov)))"
   ]
  },
  {
   "cell_type": "code",
   "execution_count": 697,
   "id": "a9f423b9",
   "metadata": {},
   "outputs": [],
   "source": [
    "def design_matrix(x1, x2, M):\n",
    "    \"\"\"\n",
    "    x1, x2:list\n",
    "    M: int, the number of basis function\n",
    "    return: array\n",
    "    \"\"\"\n",
    "    phi = np.zeros((len(x1), M))\n",
    "    for i in range(len(x1)):\n",
    "        for j in range(M):\n",
    "            phi[i][j] = basis(x1[i], x2[i], j, M)\n",
    "    return phi"
   ]
  },
  {
   "cell_type": "code",
   "execution_count": 698,
   "id": "ffa8ceac",
   "metadata": {
    "scrolled": true
   },
   "outputs": [
    {
     "data": {
      "text/plain": [
       "array([[6.36376795e-04, 1.84161380e-07, 1.11074213e-05, 2.54914997e-09],\n",
       "       [9.43206859e-05, 6.92946258e-10, 1.76788009e-09, 8.02718324e-15],\n",
       "       [4.78794871e-04, 5.23357715e-07, 2.87153412e-08, 1.75260349e-11],\n",
       "       [7.40041286e-04, 1.04026093e-06, 1.22901161e-05, 1.29717511e-08],\n",
       "       [2.26422698e-04, 1.69543459e-08, 5.91242084e-05, 4.24955444e-09]])"
      ]
     },
     "execution_count": 698,
     "metadata": {},
     "output_type": "execute_result"
    }
   ],
   "source": [
    "design_matrix(x1[:5], x2[:5], 4)"
   ]
  },
  {
   "cell_type": "markdown",
   "id": "dc21dabf",
   "metadata": {},
   "source": [
    "**Generate initial parameters for basis function**"
   ]
  },
  {
   "cell_type": "code",
   "execution_count": 785,
   "id": "fa7632a2",
   "metadata": {},
   "outputs": [],
   "source": [
    "M = 4 #assume we have 4 basis function\n",
    "W = np.zeros((M * 4, 1))\n",
    "class_num = 4 #we have 4 classes in total\n",
    "for i in range(M * 4):\n",
    "    num = random.randint(1, 100) #/ 100\n",
    "    '''while num == 0: #if num = 0\n",
    "        num = random.randint(0, 100) #/ 100'''\n",
    "    W[i] = num\n",
    "W_1 = W[:M]\n",
    "W_2 = W[M:2 * M]\n",
    "W_3 = W[2 * M:3 * M]\n",
    "W_4 = W[3 * M:]"
   ]
  },
  {
   "cell_type": "code",
   "execution_count": 595,
   "id": "572ce7ca",
   "metadata": {},
   "outputs": [],
   "source": [
    "W = temp_W"
   ]
  },
  {
   "cell_type": "code",
   "execution_count": 786,
   "id": "4a8c41db",
   "metadata": {},
   "outputs": [
    {
     "data": {
      "text/plain": [
       "array([[67., 91., 37., 55.],\n",
       "       [25., 87., 23., 19.],\n",
       "       [57., 66., 95., 13.],\n",
       "       [13., 29., 39., 95.]])"
      ]
     },
     "execution_count": 786,
     "metadata": {},
     "output_type": "execute_result"
    }
   ],
   "source": [
    "temp_W = W\n",
    "W.reshape((4, 4))"
   ]
  },
  {
   "cell_type": "code",
   "execution_count": 725,
   "id": "4dc66cdd",
   "metadata": {},
   "outputs": [],
   "source": [
    "def logit(x1, x2, M, W):\n",
    "    \"\"\"\n",
    "    x1: list\n",
    "    x2: list\n",
    "    y: list\n",
    "    return: list with 4 int, corresponding to different result of x if subtitute in different logit function\n",
    "    \"\"\"\n",
    "    phi = design_matrix(x1, x2, M)\n",
    "    final = np.zeros((4, len(x1)))\n",
    "    W_ = W.reshape((4, M))\n",
    "    return np.dot(W_, phi.T)"
   ]
  },
  {
   "cell_type": "code",
   "execution_count": 726,
   "id": "b0b12f6b",
   "metadata": {},
   "outputs": [
    {
     "data": {
      "text/plain": [
       "(4, 1000)"
      ]
     },
     "execution_count": 726,
     "metadata": {},
     "output_type": "execute_result"
    }
   ],
   "source": [
    "logit(x1, x2, M, W).shape"
   ]
  },
  {
   "cell_type": "code",
   "execution_count": 746,
   "id": "63e5a687",
   "metadata": {},
   "outputs": [],
   "source": [
    "def y_softmax(x1, x2, M, W):\n",
    "    \"\"\"\n",
    "    x1: list\n",
    "    x2: list\n",
    "    M: int\n",
    "    W: list\n",
    "    return p(C1 | x), p(C2 | x), p(C3 | x), p(C4 | x) in list\n",
    "    \"\"\"\n",
    "    ans = logit(x1, x2, M, W)\n",
    "    y = np.zeros((4, len(x1)))\n",
    "    \n",
    "    for i in range(len(x1)):\n",
    "        nor = 0\n",
    "        for j in range(4):\n",
    "            nor += np.exp(ans[j][i])\n",
    "        for k in range(4):\n",
    "            y[k][i] = np.exp(ans[k][i]) / nor\n",
    "    idx = []\n",
    "    Y = y.T\n",
    "\n",
    "    for i in range(len(Y)):\n",
    "        idx.append(np.argmax(Y[i]) + 1)\n",
    "                   \n",
    "    return Y, idx"
   ]
  },
  {
   "cell_type": "code",
   "execution_count": 767,
   "id": "30f2e34e",
   "metadata": {
    "scrolled": true
   },
   "outputs": [
    {
     "data": {
      "text/plain": [
       "(array([[0.24732903, 0.25010187, 0.24387197, 0.25869713],\n",
       "        [0.24961772, 0.25001581, 0.24909781, 0.25126867],\n",
       "        [0.24804378, 0.25005714, 0.24542572, 0.25647336],\n",
       "        [0.24689632, 0.25011012, 0.24287725, 0.26011631],\n",
       "        [0.24878624, 0.25027168, 0.24754459, 0.25339749]]),\n",
       " [4, 4, 4, 4, 4])"
      ]
     },
     "execution_count": 767,
     "metadata": {},
     "output_type": "execute_result"
    }
   ],
   "source": [
    "y_softmax(x1[:5], x2[:5], 4, W)"
   ]
  },
  {
   "cell_type": "markdown",
   "id": "3cdf04da",
   "metadata": {},
   "source": [
    "**Iterate the weight**"
   ]
  },
  {
   "cell_type": "code",
   "execution_count": 630,
   "id": "29b4657e",
   "metadata": {},
   "outputs": [],
   "source": [
    "def deri_Error(x1, x2, y, M, W):\n",
    "    result = np.zeros((4 * M, 1))\n",
    "    phi = design_matrix(x1, x2, M)\n",
    "    prob, idx = y_softmax(x1, x2, M, W)\n",
    "    for j in range(len(prob[0])): #for every class(length: 4)\n",
    "        add = np.zeros((M, 1))\n",
    "        t_n = 0\n",
    "        for i in range(len(prob)): #for every data(length: N)\n",
    "            t_n = 1 if (y[i] - 1) == j else 0\n",
    "            add += [x * (prob[i][j] - t_n) for x in phi[i][np.newaxis].T]\n",
    "        result[j * M:(j + 1) * M] = add\n",
    "    return result"
   ]
  },
  {
   "cell_type": "code",
   "execution_count": 621,
   "id": "057a0006",
   "metadata": {},
   "outputs": [
    {
     "data": {
      "text/plain": [
       "(7, 1)"
      ]
     },
     "execution_count": 621,
     "metadata": {},
     "output_type": "execute_result"
    }
   ],
   "source": [
    "design_matrix(x1, x2, M)[i][np.newaxis].T.shape"
   ]
  },
  {
   "cell_type": "code",
   "execution_count": 517,
   "id": "c9979f9d",
   "metadata": {},
   "outputs": [
    {
     "data": {
      "text/plain": [
       "(28, 1)"
      ]
     },
     "execution_count": 517,
     "metadata": {},
     "output_type": "execute_result"
    }
   ],
   "source": [
    "deri_Error(x1, x2, Class, M, W).shape"
   ]
  },
  {
   "cell_type": "code",
   "execution_count": 751,
   "id": "dfc57319",
   "metadata": {},
   "outputs": [],
   "source": [
    "def H(x1, x2, y, M, W):\n",
    "    result = np.zeros((4 * M, 4 * M))\n",
    "    phi = design_matrix(x1, x2, M)\n",
    "    prob, idx = y_softmax(x1, x2, M, W)\n",
    "    for k in range(4): #row\n",
    "            for j in range(4): #col\n",
    "                add = np.zeros((M, M))\n",
    "                I = 1 if k == j else 0\n",
    "                for w in range(len(y)): #sum up for all data\n",
    "                    mul = prob[w][k]\n",
    "                    minus = prob[w][j]\n",
    "                    add += [x * (mul * (I - minus)) for x in np.dot(phi[w][np.newaxis].T, phi[w][np.newaxis])]\n",
    "                result[k * M:(k + 1) * M, j * M: (j + 1) * M] = add\n",
    "    return result"
   ]
  },
  {
   "cell_type": "code",
   "execution_count": 704,
   "id": "a693c28b",
   "metadata": {},
   "outputs": [],
   "source": [
    "def SVD_inv(H1):\n",
    "    th = 1e-100 #threshold fot small singular values\n",
    "    u, s, vh = np.linalg.svd(H1)\n",
    "    u = np.linalg.inv(u)\n",
    "    s = np.linalg.inv(np.diag(s))\n",
    "    vh = np.linalg.inv(vh)\n",
    "    H1_inv = np.dot(vh, np.dot(s, u))\n",
    "    return H1_inv"
   ]
  },
  {
   "cell_type": "code",
   "execution_count": 765,
   "id": "cb9a84a3",
   "metadata": {},
   "outputs": [],
   "source": [
    "def Error(x1, x2, M, W):\n",
    "    w = W.reshape(4, M)\n",
    "    phi = design_matrix(x1, x2, M)\n",
    "    #a = np.dot(w, phi.T) # k x N\n",
    "    y = y_softmax(x1, x2, M, W)[0]\n",
    "    error = 0  \n",
    "    for j in range(len(x1)):\n",
    "        error += np.log(y[Class[j] - 1][j])\n",
    "\n",
    "    error *= -1          \n",
    "    return error"
   ]
  },
  {
   "cell_type": "code",
   "execution_count": 787,
   "id": "80e4f3c3",
   "metadata": {
    "scrolled": true
   },
   "outputs": [
    {
     "name": "stdout",
     "output_type": "stream",
     "text": [
      "0\n",
      "1\n",
      "2\n",
      "3\n",
      "4\n"
     ]
    },
    {
     "data": {
      "image/png": "[encoded data removed]",
      "text/plain": [
       "<Figure size 300x1000 with 1 Axes>"
      ]
     },
     "metadata": {},
     "output_type": "display_data"
    },
    {
     "data": {
      "image/png": "[encoded data removed]",
      "text/plain": [
       "<Figure size 300x1000 with 1 Axes>"
      ]
     },
     "metadata": {},
     "output_type": "display_data"
    },
    {
     "data": {
      "image/png": "[encoded data removed]",
      "text/plain": [
       "<Figure size 300x1000 with 1 Axes>"
      ]
     },
     "metadata": {},
     "output_type": "display_data"
    },
    {
     "data": {
      "image/png": "[encoded data removed]",
      "text/plain": [
       "<Figure size 300x1000 with 1 Axes>"
      ]
     },
     "metadata": {},
     "output_type": "display_data"
    },
    {
     "data": {
      "image/png": "[encoded data removed]",
      "text/plain": [
       "<Figure size 300x1000 with 1 Axes>"
      ]
     },
     "metadata": {},
     "output_type": "display_data"
    }
   ],
   "source": [
    "store = []\n",
    "count = 0\n",
    "#abs(old - new) > 0.00001\n",
    "lst = []\n",
    "for x in np.linspace(0.0, 100.0, num=1000):\n",
    "    for y in np.linspace(0.0, 100.0, num=1000):\n",
    "        lst.append((x, y)) \n",
    "input_1 = [i[0] for i in lst]\n",
    "input_2 = [i[1] for i in lst]\n",
    "count = 0\n",
    "stop = 0\n",
    "while True:  #先iterate 5 次 \n",
    "    if count > 4 or stop > 5:\n",
    "        break\n",
    "    #print(W.reshape((4, 7)))\n",
    "    X1 = x1\n",
    "    X2 = x2\n",
    "    Y = Class\n",
    "    H1 = H(X1, X2, M, W)\n",
    "    H1_inv = SVD_inv(H1)\n",
    "    old_error = Error(X1, X2, M, W)\n",
    "    prob, idx = y_softmax(input_1, input_2, M, W)\n",
    "    result = np.array(idx).reshape((1000, 1000))\n",
    "    fig , ax = plt.subplots(figsize=(3, 10))\n",
    "    plt.imshow(result, cmap = cmap, interpolation = 'none', origin = \"lower\", extent = [0, 100, 0, 100], aspect = 1 / 1.4)\n",
    "    \n",
    "    W = W - np.dot(H1_inv, deri_Error(X1, X2, Y, M, W))\n",
    "    #W = W - np.array([x * 0.05 for x in deri_Error(X1, X2, Class, M, W)])\n",
    "    new_error = Error(X1, X2, M, W)\n",
    "    '''if old_error - new_error < 0.00001:\n",
    "        stop += 1'''\n",
    "    store.append(W)\n",
    "    print(count)\n",
    "    count += 1"
   ]
  },
  {
   "cell_type": "code",
   "execution_count": null,
   "id": "3cf3d95a",
   "metadata": {},
   "outputs": [],
   "source": []
  },
  {
   "cell_type": "code",
   "execution_count": null,
   "id": "f07c979e",
   "metadata": {},
   "outputs": [],
   "source": []
  }
 ],
 "metadata": {
  "kernelspec": {
   "display_name": "Python 3 (ipykernel)",
   "language": "python",
   "name": "python3"
  },
  "language_info": {
   "codemirror_mode": {
    "name": "ipython",
    "version": 3
   },
   "file_extension": ".py",
   "mimetype": "text/x-python",
   "name": "python",
   "nbconvert_exporter": "python",
   "pygments_lexer": "ipython3",
   "version": "3.9.13"
  }
 },
 "nbformat": 4,
 "nbformat_minor": 5
}
